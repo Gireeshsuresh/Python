
import numpy as np
import matplotlib.pyplot as plt
import pandas as pd
from sklearn.model_selection import train_test_split

fruits = pd.read_table("fruits_data_with_colors.txt")

fruits.head()
#print(fruits.head())

# Create a mapping from fruit label value to fruit name to make results easier to interpret
lookup_fruit_name = dict(zip(fruits.fruit_label.unique(), fruits.fruit_name.unique()))
lookup_fruit_name
print(lookup_fruit_name)

## The file contains the mass, height, and width of a selection of oranges, lemons and apples.
## The heights were measured along the core of the fruit.
## The widths were the widest width perpendicular to the height.

### -------------------------------------------------------

###             Examining the data

### -------------------------------------------------------

# plotting a scatter matrix

from matplotlib import cm

X = fruits[['height', 'width', 'mass', 'color_score']]
y = fruits['fruit_label']
X_train, X_test, y_train, y_test = train_test_split(X, y, random_state=0)

cmap = cm.get_cmap('gnuplot')
scatter = pd.plotting.scatter_matrix(X_train, c = y_train, marker = 'o', s = 40, hist_kwds = {'bins':15}, figsize = (9,9), cmap = cmap)
print(scatter)

